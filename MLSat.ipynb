{
 "cells": [
  {
   "cell_type": "code",
   "execution_count": 3,
   "metadata": {},
   "outputs": [
    {
     "name": "stdout",
     "output_type": "stream",
     "text": [
      "[-1, -2, -3]\n",
      "[-1, -2, 3]\n",
      "[-1, 2, 3]\n",
      "[1, 2, 3]\n"
     ]
    }
   ],
   "source": [
    "'''\n",
    "Moshe's idea:\n",
    "1. Start with a large Boolean formula f (say, industrial SAT benchmark).\n",
    "2. Generate many samples satisfying f or \\neg f.\n",
    "(Using, for example, [https://www.nature.com/articles/s42256-018-0002-3](https://www.nature.com/articles/s42256-018-0002-3))\n",
    "3. Generate many samples satisfying f or \\neg f.\n",
    "(Using, for example, [https://www.nature.com/articles/s42256-018-0002-3](https://www.nature.com/articles/s42256-018-0002-3))\n",
    "4. Train a DNN on this labeled sample.\n",
    "5. Check whether it is a good apprcximation of f.\n",
    "----------\n",
    "To use this notebook, please install pysat: https://pysathq.github.io/installation.html\n",
    "Perhaps the simplest way is with the following command: pip install python-sat[pblib,aiger]\n",
    "(pysat might not work on Windows)\n",
    "'''\n",
    "\n",
    "\n",
    "# This is just a warm-up cell, to see how pysat works\n",
    "\n",
    "# some examples of pysat usage at: https://github.com/pysathq/pysat/blob/master/examples/usage.py\n",
    "from pysat.solvers import Glucose3\n",
    "g = Glucose3()\n",
    "g.add_clause([-1, 2])\n",
    "g.add_clause([-2, 3])\n",
    "\n",
    "\n",
    "for m in g.enum_models():  # implemented as a generator\n",
    "    print(m)\n",
    "g.delete()"
   ]
  },
  {
   "cell_type": "code",
   "execution_count": 32,
   "metadata": {},
   "outputs": [
    {
     "name": "stdout",
     "output_type": "stream",
     "text": [
      "106\n",
      "106\n",
      "-1\n",
      "1\n"
     ]
    }
   ],
   "source": [
    "# to use this cell, extract bw_large.d.cnf from instances/blocksworld.tar.gz\n",
    "# blocksworld is from satlib at https://www.cs.ubc.ca/~hoos/SATLIB/Benchmarks/SAT/PLANNING/BlocksWorld/blocksworld.tar.gz\n",
    "# satlib website: https://www.cs.ubc.ca/~hoos/SATLIB/benchm.html\n",
    "\n",
    "from pysat.formula import CNF\n",
    "\n",
    "formula = CNF(from_file='instances/bw_large.d.cnf')\n",
    "\n",
    "num_vars = formula.nv\n",
    "sat_list = []\n",
    "unsat_list = []\n",
    "\n",
    "with Glucose3(bootstrap_with=formula) as solver:\n",
    "    \n",
    "    # for each positive (sat) instance, flip a literal to generate a negative (unsat) instance\n",
    "    \n",
    "    # transforming each sat instance into tuple eases the generation of negative instances\n",
    "    sat_list = [tuple(m) for m in solver.enum_models()] \n",
    "    #print(sat_list[0])\n",
    "    sat_set = set(sat_list) # much quicker to verify an existing instance\n",
    "    \n",
    "    for assignment in sat_list:\n",
    "        for i, literal in enumerate(assignment):\n",
    "            tentative_unsat = list(assignment)\n",
    "            tentative_unsat[i] = -tentative_unsat[i] #negating one literal\n",
    "            if tuple(tentative_unsat) not in sat_set:\n",
    "                unsat_list.append(tentative_unsat)\n",
    "                break # goes on to next assignment\n",
    "            #print(f'negated {i}-th')\n",
    "    \n",
    "    #for num, m in enumerate(solver.enum_models()):  \n",
    "    #print(num)\n",
    "print(len(sat_list))\n",
    "print(len(unsat_list))"
   ]
  }
 ],
 "metadata": {
  "kernelspec": {
   "display_name": "Python 3",
   "language": "python",
   "name": "python3"
  },
  "language_info": {
   "codemirror_mode": {
    "name": "ipython",
    "version": 3
   },
   "file_extension": ".py",
   "mimetype": "text/x-python",
   "name": "python",
   "nbconvert_exporter": "python",
   "pygments_lexer": "ipython3",
   "version": "3.7.3"
  }
 },
 "nbformat": 4,
 "nbformat_minor": 2
}

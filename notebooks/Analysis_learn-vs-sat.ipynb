{
  "nbformat": 4,
  "nbformat_minor": 0,
  "metadata": {
    "kernelspec": {
      "display_name": "Python 3",
      "language": "python",
      "name": "python3"
    },
    "language_info": {
      "codemirror_mode": {
        "name": "ipython",
        "version": 3
      },
      "file_extension": ".py",
      "mimetype": "text/x-python",
      "name": "python",
      "nbconvert_exporter": "python",
      "pygments_lexer": "ipython3",
      "version": "3.8.5"
    },
    "colab": {
      "name": "Analysis_learn-vs-sat.ipynb",
      "provenance": [],
      "toc_visible": true
    }
  },
  "cells": [
    {
      "cell_type": "code",
      "metadata": {
        "id": "J0lL0i-mHMJz",
        "colab_type": "code",
        "colab": {
          "base_uri": "https://localhost:8080/",
          "height": 130
        },
        "outputId": "0507f4f0-a558-4c2c-9867-ea070cb483e3"
      },
      "source": [
        "from google.colab import drive\n",
        "drive.mount('/content/drive')"
      ],
      "execution_count": 1,
      "outputs": [
        {
          "output_type": "stream",
          "text": [
            "Go to this URL in a browser: https://accounts.google.com/o/oauth2/auth?client_id=947318989803-6bn6qk8qdgf4n4g3pfee6491hc0brc4i.apps.googleusercontent.com&redirect_uri=urn%3aietf%3awg%3aoauth%3a2.0%3aoob&scope=email%20https%3a%2f%2fwww.googleapis.com%2fauth%2fdocs.test%20https%3a%2f%2fwww.googleapis.com%2fauth%2fdrive%20https%3a%2f%2fwww.googleapis.com%2fauth%2fdrive.photos.readonly%20https%3a%2f%2fwww.googleapis.com%2fauth%2fpeopleapi.readonly&response_type=code\n",
            "\n",
            "Enter your authorization code:\n",
            "··········\n",
            "Mounted at /content/drive\n"
          ],
          "name": "stdout"
        }
      ]
    },
    {
      "cell_type": "code",
      "metadata": {
        "id": "U60KrgJdPPvA",
        "colab_type": "code",
        "colab": {}
      },
      "source": [
        "import tarfile\n",
        "import os\n",
        "\n",
        "if not os.path.exists('/content/drive/My Drive/UFRGS/Learnability/relu'):\n",
        "  with tarfile.open('/content/drive/My Drive/UFRGS/Learnability/neurons_relu.tar.gz', \"r:gz\") as nr:\n",
        "    nr.extractall(path='/content/drive/My Drive/UFRGS/Learnability/relu')\n",
        "\n",
        "if not os.path.exists('/content/drive/My Drive/UFRGS/Learnability/logistic'):\n",
        "  with tarfile.open('/content/drive/My Drive/UFRGS/Learnability/neurons_logistic.tar.gz', \"r:gz\") as nr:\n",
        "    nr.extractall(path='/content/drive/My Drive/UFRGS/Learnability/logistic')\n"
      ],
      "execution_count": 2,
      "outputs": []
    },
    {
      "cell_type": "code",
      "metadata": {
        "id": "FMS_v3jtHF-2",
        "colab_type": "code",
        "colab": {
          "base_uri": "https://localhost:8080/",
          "height": 264
        },
        "outputId": "5020fc4b-0136-4294-e8ef-3dde308df5cc"
      },
      "source": [
        "# an example dataframe, note the repeated formulas\n",
        "import pandas as pd\n",
        "df = pd.read_csv('/content/drive/My Drive/UFRGS/Learnability/logistic/neurons_logistic_v50_over_v50_c238_r4.760.csv')\n",
        "df.head(4)"
      ],
      "execution_count": 2,
      "outputs": [
        {
          "output_type": "execute_result",
          "data": {
            "text/html": [
              "<div>\n",
              "<style scoped>\n",
              "    .dataframe tbody tr th:only-of-type {\n",
              "        vertical-align: middle;\n",
              "    }\n",
              "\n",
              "    .dataframe tbody tr th {\n",
              "        vertical-align: top;\n",
              "    }\n",
              "\n",
              "    .dataframe thead th {\n",
              "        text-align: right;\n",
              "    }\n",
              "</style>\n",
              "<table border=\"1\" class=\"dataframe\">\n",
              "  <thead>\n",
              "    <tr style=\"text-align: right;\">\n",
              "      <th></th>\n",
              "      <th>formula</th>\n",
              "      <th>sampler</th>\n",
              "      <th>activation</th>\n",
              "      <th>#neurons</th>\n",
              "      <th>cvfolds</th>\n",
              "      <th>metric</th>\n",
              "      <th>mean</th>\n",
              "      <th>std</th>\n",
              "      <th>start</th>\n",
              "      <th>finish</th>\n",
              "    </tr>\n",
              "  </thead>\n",
              "  <tbody>\n",
              "    <tr>\n",
              "      <th>0</th>\n",
              "      <td>sat_00100_k3_v50_c238.cnf_unigen_453_500.pkl.gz</td>\n",
              "      <td>unigen</td>\n",
              "      <td>logistic</td>\n",
              "      <td>1</td>\n",
              "      <td>5</td>\n",
              "      <td>accuracy</td>\n",
              "      <td>0.809424</td>\n",
              "      <td>0.233407</td>\n",
              "      <td>2020-08-28 11:31:28.548645</td>\n",
              "      <td>2020-08-28 11:31:29.442348</td>\n",
              "    </tr>\n",
              "    <tr>\n",
              "      <th>1</th>\n",
              "      <td>sat_00100_k3_v50_c238.cnf_unigen_453_500.pkl.gz</td>\n",
              "      <td>unigen</td>\n",
              "      <td>logistic</td>\n",
              "      <td>2</td>\n",
              "      <td>5</td>\n",
              "      <td>accuracy</td>\n",
              "      <td>0.998947</td>\n",
              "      <td>0.002105</td>\n",
              "      <td>2020-08-28 11:31:28.548645</td>\n",
              "      <td>2020-08-28 11:31:30.320994</td>\n",
              "    </tr>\n",
              "    <tr>\n",
              "      <th>2</th>\n",
              "      <td>sat_00100_k3_v50_c238.cnf_unigen_453_500.pkl.gz</td>\n",
              "      <td>unigen</td>\n",
              "      <td>logistic</td>\n",
              "      <td>4</td>\n",
              "      <td>5</td>\n",
              "      <td>accuracy</td>\n",
              "      <td>0.998947</td>\n",
              "      <td>0.002105</td>\n",
              "      <td>2020-08-28 11:31:28.548645</td>\n",
              "      <td>2020-08-28 11:31:31.254835</td>\n",
              "    </tr>\n",
              "    <tr>\n",
              "      <th>3</th>\n",
              "      <td>sat_00100_k3_v50_c238.cnf_unigen_453_500.pkl.gz</td>\n",
              "      <td>unigen</td>\n",
              "      <td>logistic</td>\n",
              "      <td>8</td>\n",
              "      <td>5</td>\n",
              "      <td>accuracy</td>\n",
              "      <td>1.000000</td>\n",
              "      <td>0.000000</td>\n",
              "      <td>2020-08-28 11:31:28.548645</td>\n",
              "      <td>2020-08-28 11:31:32.804640</td>\n",
              "    </tr>\n",
              "  </tbody>\n",
              "</table>\n",
              "</div>"
            ],
            "text/plain": [
              "                                           formula  ...                      finish\n",
              "0  sat_00100_k3_v50_c238.cnf_unigen_453_500.pkl.gz  ...  2020-08-28 11:31:29.442348\n",
              "1  sat_00100_k3_v50_c238.cnf_unigen_453_500.pkl.gz  ...  2020-08-28 11:31:30.320994\n",
              "2  sat_00100_k3_v50_c238.cnf_unigen_453_500.pkl.gz  ...  2020-08-28 11:31:31.254835\n",
              "3  sat_00100_k3_v50_c238.cnf_unigen_453_500.pkl.gz  ...  2020-08-28 11:31:32.804640\n",
              "\n",
              "[4 rows x 10 columns]"
            ]
          },
          "metadata": {
            "tags": []
          },
          "execution_count": 2
        }
      ]
    },
    {
      "cell_type": "code",
      "metadata": {
        "id": "uqjjYVVLHF_K",
        "colab_type": "code",
        "colab": {
          "base_uri": "https://localhost:8080/",
          "height": 283
        },
        "outputId": "6a41e031-c8d3-418c-a618-544163fbc2c1"
      },
      "source": [
        "# then we get the maximum #neurons of each formula (no repeated formulas anymore)\n",
        "# note that none of those with 512 neurons has perfect accuracy\n",
        "grouped_df = df.groupby(\"formula\", sort=False, as_index=False).last()\n",
        "print(len(grouped_df))\n",
        "grouped_df.head(4)"
      ],
      "execution_count": 3,
      "outputs": [
        {
          "output_type": "stream",
          "text": [
            "173\n"
          ],
          "name": "stdout"
        },
        {
          "output_type": "execute_result",
          "data": {
            "text/html": [
              "<div>\n",
              "<style scoped>\n",
              "    .dataframe tbody tr th:only-of-type {\n",
              "        vertical-align: middle;\n",
              "    }\n",
              "\n",
              "    .dataframe tbody tr th {\n",
              "        vertical-align: top;\n",
              "    }\n",
              "\n",
              "    .dataframe thead th {\n",
              "        text-align: right;\n",
              "    }\n",
              "</style>\n",
              "<table border=\"1\" class=\"dataframe\">\n",
              "  <thead>\n",
              "    <tr style=\"text-align: right;\">\n",
              "      <th></th>\n",
              "      <th>formula</th>\n",
              "      <th>sampler</th>\n",
              "      <th>activation</th>\n",
              "      <th>#neurons</th>\n",
              "      <th>cvfolds</th>\n",
              "      <th>metric</th>\n",
              "      <th>mean</th>\n",
              "      <th>std</th>\n",
              "      <th>start</th>\n",
              "      <th>finish</th>\n",
              "    </tr>\n",
              "  </thead>\n",
              "  <tbody>\n",
              "    <tr>\n",
              "      <th>0</th>\n",
              "      <td>sat_00100_k3_v50_c238.cnf_unigen_453_500.pkl.gz</td>\n",
              "      <td>unigen</td>\n",
              "      <td>logistic</td>\n",
              "      <td>8</td>\n",
              "      <td>5</td>\n",
              "      <td>accuracy</td>\n",
              "      <td>1.00000</td>\n",
              "      <td>0.000000</td>\n",
              "      <td>2020-08-28 11:31:28.548645</td>\n",
              "      <td>2020-08-28 11:31:32.804640</td>\n",
              "    </tr>\n",
              "    <tr>\n",
              "      <th>1</th>\n",
              "      <td>sat_00009_k3_v50_c238.cnf_unigen_100_500.pkl.gz</td>\n",
              "      <td>unigen</td>\n",
              "      <td>logistic</td>\n",
              "      <td>8</td>\n",
              "      <td>5</td>\n",
              "      <td>accuracy</td>\n",
              "      <td>1.00000</td>\n",
              "      <td>0.000000</td>\n",
              "      <td>2020-08-28 11:31:32.804739</td>\n",
              "      <td>2020-08-28 11:31:35.884857</td>\n",
              "    </tr>\n",
              "    <tr>\n",
              "      <th>2</th>\n",
              "      <td>sat_00054_k3_v50_c238.cnf_unigen_54_500.pkl.gz</td>\n",
              "      <td>unigen</td>\n",
              "      <td>logistic</td>\n",
              "      <td>16</td>\n",
              "      <td>5</td>\n",
              "      <td>accuracy</td>\n",
              "      <td>1.00000</td>\n",
              "      <td>0.000000</td>\n",
              "      <td>2020-08-28 11:31:35.884958</td>\n",
              "      <td>2020-08-28 11:31:40.083207</td>\n",
              "    </tr>\n",
              "    <tr>\n",
              "      <th>3</th>\n",
              "      <td>sat_00102_k3_v50_c238.cnf_unigen_316_500.pkl.gz</td>\n",
              "      <td>unigen</td>\n",
              "      <td>logistic</td>\n",
              "      <td>512</td>\n",
              "      <td>5</td>\n",
              "      <td>accuracy</td>\n",
              "      <td>0.99878</td>\n",
              "      <td>0.002439</td>\n",
              "      <td>2020-08-28 11:31:40.083311</td>\n",
              "      <td>2020-08-28 11:32:03.657900</td>\n",
              "    </tr>\n",
              "  </tbody>\n",
              "</table>\n",
              "</div>"
            ],
            "text/plain": [
              "                                           formula  ...                      finish\n",
              "0  sat_00100_k3_v50_c238.cnf_unigen_453_500.pkl.gz  ...  2020-08-28 11:31:32.804640\n",
              "1  sat_00009_k3_v50_c238.cnf_unigen_100_500.pkl.gz  ...  2020-08-28 11:31:35.884857\n",
              "2   sat_00054_k3_v50_c238.cnf_unigen_54_500.pkl.gz  ...  2020-08-28 11:31:40.083207\n",
              "3  sat_00102_k3_v50_c238.cnf_unigen_316_500.pkl.gz  ...  2020-08-28 11:32:03.657900\n",
              "\n",
              "[4 rows x 10 columns]"
            ]
          },
          "metadata": {
            "tags": []
          },
          "execution_count": 3
        }
      ]
    },
    {
      "cell_type": "code",
      "metadata": {
        "id": "oXRnDSQmETio",
        "colab_type": "code",
        "colab": {}
      },
      "source": [
        "import numpy as np\n",
        "\n",
        "df2 = df.where(df.sampler=='unigen').groupby('formula', sort=False, as_index=False).last()['#neurons'].value_counts(normalize=True,sort=False)\n",
        "x = df2.index[np.argsort(df2.index)]\n",
        "y = df2.values[np.argsort(df2.index)]\n"
      ],
      "execution_count": 5,
      "outputs": []
    },
    {
      "cell_type": "code",
      "metadata": {
        "id": "94CKHttPr2D-",
        "colab_type": "code",
        "colab": {
          "base_uri": "https://localhost:8080/",
          "height": 74
        },
        "outputId": "dbfb9c51-881a-49bd-bd31-e582dcc4d04f"
      },
      "source": [
        "import matplotlib.pyplot as plt\n",
        "from  matplotlib.ticker import PercentFormatter\n",
        "%matplotlib inline\n",
        "import seaborn as sns"
      ],
      "execution_count": 6,
      "outputs": [
        {
          "output_type": "stream",
          "text": [
            "/usr/local/lib/python3.6/dist-packages/statsmodels/tools/_testing.py:19: FutureWarning: pandas.util.testing is deprecated. Use the functions in the public API at pandas.testing instead.\n",
            "  import pandas.util.testing as tm\n"
          ],
          "name": "stderr"
        }
      ]
    },
    {
      "cell_type": "code",
      "metadata": {
        "id": "MOKu8pfWD68E",
        "colab_type": "code",
        "colab": {
          "base_uri": "https://localhost:8080/",
          "height": 306
        },
        "outputId": "d68a0b85-ce52-4af1-dabf-040c4860aeac"
      },
      "source": [
        "ax = sns.lineplot(x=x,y=y,markers=x)\n",
        "from matplotlib.ticker import FixedLocator\n",
        "xp = FixedLocator(x)\n",
        "plt.gca().xaxis.set_major_locator(xp)\n",
        "ax.set_ylim([0,1])\n",
        "ax.set_xscale('log', basex=2)\n",
        "ax.set_xlabel('# neurons')\n",
        "ax.set_ylabel('probability')\n",
        "ax"
      ],
      "execution_count": 9,
      "outputs": [
        {
          "output_type": "execute_result",
          "data": {
            "text/plain": [
              "<matplotlib.axes._subplots.AxesSubplot at 0x7f3476fd1a58>"
            ]
          },
          "metadata": {
            "tags": []
          },
          "execution_count": 9
        },
        {
          "output_type": "display_data",
          "data": {
            "image/png": "[encoded data removed]",
            "text/plain": [
              "<Figure size 432x288 with 1 Axes>"
            ]
          },
          "metadata": {
            "tags": [],
            "needs_background": "light"
          }
        }
      ]
    },
    {
      "cell_type": "code",
      "metadata": {
        "id": "_lBoPfqkO4bu",
        "colab_type": "code",
        "colab": {
          "base_uri": "https://localhost:8080/",
          "height": 313
        },
        "outputId": "0042a0f8-ebbd-4dd6-c35a-d2a534ffa615"
      },
      "source": [
        "ax = sns.barplot(x=x,y=y)\n",
        "plt.suptitle(f'50 variables, {len(grouped_df)} instances')\n",
        "ax.set_ylim([0,.5])\n",
        "ax"
      ],
      "execution_count": null,
      "outputs": [
        {
          "output_type": "execute_result",
          "data": {
            "text/plain": [
              "<matplotlib.axes._subplots.AxesSubplot at 0x7fe159a6eb00>"
            ]
          },
          "metadata": {
            "tags": []
          },
          "execution_count": 41
        },
        {
          "output_type": "display_data",
          "data": {
            "image/png": "[encoded data removed]",
            "text/plain": [
              "<Figure size 432x288 with 1 Axes>"
            ]
          },
          "metadata": {
            "tags": [],
            "needs_background": "light"
          }
        }
      ]
    },
    {
      "cell_type": "code",
      "metadata": {
        "id": "kARuR8s6HF_P",
        "colab_type": "code",
        "colab": {
          "base_uri": "https://localhost:8080/",
          "height": 342
        },
        "outputId": "53ed47d1-a21d-41f3-8a0e-186902202eb1"
      },
      "source": [
        "# now, I'll plot a count of how many formulas were mastered with each number of neurons\n",
        "plt.figure()\n",
        "sns.countplot(x=\"#neurons\", data=grouped_df) #kudos: https://stackoverflow.com/a/58021306/1251716\n",
        "plt.suptitle(f'80 variables, {len(grouped_df)} instances')\n",
        "pass # holds the output of suptitle"
      ],
      "execution_count": null,
      "outputs": [
        {
          "output_type": "stream",
          "text": [
            "/usr/local/lib/python3.6/dist-packages/statsmodels/tools/_testing.py:19: FutureWarning: pandas.util.testing is deprecated. Use the functions in the public API at pandas.testing instead.\n",
            "  import pandas.util.testing as tm\n"
          ],
          "name": "stderr"
        },
        {
          "output_type": "display_data",
          "data": {
            "image/png": "[encoded data removed]",
            "text/plain": [
              "<Figure size 432x288 with 1 Axes>"
            ]
          },
          "metadata": {
            "tags": [],
            "needs_background": "light"
          }
        }
      ]
    },
    {
      "cell_type": "code",
      "metadata": {
        "id": "HnQh3hmalY2f",
        "colab_type": "code",
        "colab": {}
      },
      "source": [
        "base_dir = '/content/drive/My Drive/UFRGS/Learnability'"
      ],
      "execution_count": 11,
      "outputs": []
    },
    {
      "cell_type": "code",
      "metadata": {
        "id": "6q2SWR1GZ1z8",
        "colab_type": "code",
        "colab": {
          "base_uri": "https://localhost:8080/",
          "height": 36
        },
        "outputId": "a5e387cb-2358-4e10-d04e-df1910cd837b"
      },
      "source": [
        "from glob import glob\n",
        "import os\n",
        "import re\n",
        "from tqdm import tqdm\n",
        "\n",
        "def extract_vars_from_path(input):\n",
        "  regex = r'neurons_(\\w+)_v(\\d+)_(\\w+)_v\\d+_c(\\d+)_r(\\d\\.\\d+)\\.csv'\n",
        "  pattern = re.compile(regex)\n",
        "  activation, n_vars, pos, c, r = pattern.search(input).groups()\n",
        "  return dict(activation=activation, vars=int(n_vars), phase=pos, clauses=int(c), ratio=float(r))\n",
        "\n",
        "\n",
        "\n",
        "\n",
        "all_data = []\n",
        "\n",
        "for f in tqdm(glob(f'{base_dir}/**/*.csv',recursive=True)):\n",
        "  reg = extract_vars_from_path(os.path.basename(f))\n",
        "  df = pd.read_csv(f)\n",
        "  grouped_df = df.where(df.sampler == 'unigen').groupby(\"formula\").last().reset_index()\n",
        "  df2 = df.where(df.sampler=='unigen').groupby('formula', \n",
        "                                               sort=False, \n",
        "                                               as_index=False).last()['#neurons'].value_counts(\n",
        "                                                   normalize=True,\n",
        "                                                   sort=False)\n",
        "  idx = np.argsort(df2.index)\n",
        "  x = df2.index[idx]\n",
        "  y = df2.values[idx]\n",
        "  reg['x'] = np.int64(x)\n",
        "  reg['y'] = y.astype('float')\n",
        "  reg['neuron'] = np.int64(x[np.argmax(y)])\n",
        "  reg['prob_neuron'] = np.float(y[np.argmax(y)])\n",
        "  #print(reg)\n",
        "  all_data.append(reg)\n",
        "\n",
        "\n",
        "dt_out = pd.DataFrame.from_dict(all_data)"
      ],
      "execution_count": 14,
      "outputs": [
        {
          "output_type": "stream",
          "text": [
            "100%|██████████| 220/220 [00:09<00:00, 22.74it/s]\n"
          ],
          "name": "stderr"
        }
      ]
    },
    {
      "cell_type": "code",
      "metadata": {
        "id": "svlKbEB1pZNq",
        "colab_type": "code",
        "colab": {
          "base_uri": "https://localhost:8080/",
          "height": 510
        },
        "outputId": "8e8d7b67-97c8-43e6-ba1f-28e63565a9fc"
      },
      "source": [
        "dt_out.to_pickle(f'{base_dir}/probabilities.pkl')\n",
        "dt_out"
      ],
      "execution_count": 15,
      "outputs": [
        {
          "output_type": "execute_result",
          "data": {
            "text/html": [
              "<div>\n",
              "<style scoped>\n",
              "    .dataframe tbody tr th:only-of-type {\n",
              "        vertical-align: middle;\n",
              "    }\n",
              "\n",
              "    .dataframe tbody tr th {\n",
              "        vertical-align: top;\n",
              "    }\n",
              "\n",
              "    .dataframe thead th {\n",
              "        text-align: right;\n",
              "    }\n",
              "</style>\n",
              "<table border=\"1\" class=\"dataframe\">\n",
              "  <thead>\n",
              "    <tr style=\"text-align: right;\">\n",
              "      <th></th>\n",
              "      <th>activation</th>\n",
              "      <th>vars</th>\n",
              "      <th>phase</th>\n",
              "      <th>clauses</th>\n",
              "      <th>ratio</th>\n",
              "      <th>x</th>\n",
              "      <th>y</th>\n",
              "      <th>neuron</th>\n",
              "      <th>prob_neuron</th>\n",
              "    </tr>\n",
              "  </thead>\n",
              "  <tbody>\n",
              "    <tr>\n",
              "      <th>0</th>\n",
              "      <td>relu</td>\n",
              "      <td>10</td>\n",
              "      <td>over</td>\n",
              "      <td>59</td>\n",
              "      <td>5.90</td>\n",
              "      <td>[512]</td>\n",
              "      <td>[1.0]</td>\n",
              "      <td>512</td>\n",
              "      <td>1.000000</td>\n",
              "    </tr>\n",
              "    <tr>\n",
              "      <th>1</th>\n",
              "      <td>relu</td>\n",
              "      <td>10</td>\n",
              "      <td>onphase</td>\n",
              "      <td>55</td>\n",
              "      <td>5.50</td>\n",
              "      <td>[512]</td>\n",
              "      <td>[1.0]</td>\n",
              "      <td>512</td>\n",
              "      <td>1.000000</td>\n",
              "    </tr>\n",
              "    <tr>\n",
              "      <th>2</th>\n",
              "      <td>relu</td>\n",
              "      <td>10</td>\n",
              "      <td>over</td>\n",
              "      <td>58</td>\n",
              "      <td>5.80</td>\n",
              "      <td>[512]</td>\n",
              "      <td>[1.0]</td>\n",
              "      <td>512</td>\n",
              "      <td>1.000000</td>\n",
              "    </tr>\n",
              "    <tr>\n",
              "      <th>3</th>\n",
              "      <td>relu</td>\n",
              "      <td>10</td>\n",
              "      <td>under</td>\n",
              "      <td>51</td>\n",
              "      <td>5.10</td>\n",
              "      <td>[512]</td>\n",
              "      <td>[1.0]</td>\n",
              "      <td>512</td>\n",
              "      <td>1.000000</td>\n",
              "    </tr>\n",
              "    <tr>\n",
              "      <th>4</th>\n",
              "      <td>relu</td>\n",
              "      <td>10</td>\n",
              "      <td>under</td>\n",
              "      <td>53</td>\n",
              "      <td>5.30</td>\n",
              "      <td>[512]</td>\n",
              "      <td>[1.0]</td>\n",
              "      <td>512</td>\n",
              "      <td>1.000000</td>\n",
              "    </tr>\n",
              "    <tr>\n",
              "      <th>...</th>\n",
              "      <td>...</td>\n",
              "      <td>...</td>\n",
              "      <td>...</td>\n",
              "      <td>...</td>\n",
              "      <td>...</td>\n",
              "      <td>...</td>\n",
              "      <td>...</td>\n",
              "      <td>...</td>\n",
              "      <td>...</td>\n",
              "    </tr>\n",
              "    <tr>\n",
              "      <th>215</th>\n",
              "      <td>logistic</td>\n",
              "      <td>100</td>\n",
              "      <td>under</td>\n",
              "      <td>411</td>\n",
              "      <td>4.11</td>\n",
              "      <td>[1, 2, 4, 8, 16, 32, 64, 128, 256, 512]</td>\n",
              "      <td>[0.16352201257861634, 0.26666666666666666, 0.1...</td>\n",
              "      <td>2</td>\n",
              "      <td>0.266667</td>\n",
              "    </tr>\n",
              "    <tr>\n",
              "      <th>216</th>\n",
              "      <td>logistic</td>\n",
              "      <td>100</td>\n",
              "      <td>under</td>\n",
              "      <td>401</td>\n",
              "      <td>4.01</td>\n",
              "      <td>[1, 2, 4, 8, 16, 32, 64, 128, 256, 512]</td>\n",
              "      <td>[0.13253012048192772, 0.21248630887185105, 0.1...</td>\n",
              "      <td>512</td>\n",
              "      <td>0.359255</td>\n",
              "    </tr>\n",
              "    <tr>\n",
              "      <th>217</th>\n",
              "      <td>logistic</td>\n",
              "      <td>100</td>\n",
              "      <td>under</td>\n",
              "      <td>391</td>\n",
              "      <td>3.91</td>\n",
              "      <td>[1, 2, 4, 8, 16, 32, 64, 128, 256, 512]</td>\n",
              "      <td>[0.07267144319344933, 0.15455475946775846, 0.1...</td>\n",
              "      <td>512</td>\n",
              "      <td>0.491300</td>\n",
              "    </tr>\n",
              "    <tr>\n",
              "      <th>218</th>\n",
              "      <td>logistic</td>\n",
              "      <td>100</td>\n",
              "      <td>over</td>\n",
              "      <td>451</td>\n",
              "      <td>4.51</td>\n",
              "      <td>[1, 2, 4, 8, 16, 32, 64, 128, 256, 512]</td>\n",
              "      <td>[0.18181818181818182, 0.32386363636363635, 0.2...</td>\n",
              "      <td>2</td>\n",
              "      <td>0.323864</td>\n",
              "    </tr>\n",
              "    <tr>\n",
              "      <th>219</th>\n",
              "      <td>logistic</td>\n",
              "      <td>100</td>\n",
              "      <td>under</td>\n",
              "      <td>381</td>\n",
              "      <td>3.81</td>\n",
              "      <td>[1, 2, 4, 8, 16, 32, 64, 128, 256, 512]</td>\n",
              "      <td>[0.03610832497492478, 0.08826479438314945, 0.0...</td>\n",
              "      <td>512</td>\n",
              "      <td>0.640923</td>\n",
              "    </tr>\n",
              "  </tbody>\n",
              "</table>\n",
              "<p>220 rows × 9 columns</p>\n",
              "</div>"
            ],
            "text/plain": [
              "    activation  vars  ... neuron  prob_neuron\n",
              "0         relu    10  ...    512     1.000000\n",
              "1         relu    10  ...    512     1.000000\n",
              "2         relu    10  ...    512     1.000000\n",
              "3         relu    10  ...    512     1.000000\n",
              "4         relu    10  ...    512     1.000000\n",
              "..         ...   ...  ...    ...          ...\n",
              "215   logistic   100  ...      2     0.266667\n",
              "216   logistic   100  ...    512     0.359255\n",
              "217   logistic   100  ...    512     0.491300\n",
              "218   logistic   100  ...      2     0.323864\n",
              "219   logistic   100  ...    512     0.640923\n",
              "\n",
              "[220 rows x 9 columns]"
            ]
          },
          "metadata": {
            "tags": []
          },
          "execution_count": 15
        }
      ]
    },
    {
      "cell_type": "code",
      "metadata": {
        "id": "sVNKxnphj0py",
        "colab_type": "code",
        "colab": {}
      },
      "source": [
        "import numpy as np\n",
        "\n",
        "dt_out = pd.read_pickle(f'{base_dir}/probabilities.pkl')"
      ],
      "execution_count": 12,
      "outputs": []
    },
    {
      "cell_type": "code",
      "metadata": {
        "id": "Md0qZkx-sHbt",
        "colab_type": "code",
        "colab": {
          "base_uri": "https://localhost:8080/",
          "height": 298
        },
        "outputId": "63dadf81-4332-4392-a1ee-2f0df8bc02dc"
      },
      "source": [
        "sns.barplot(x='neuron', y='vars',hue='activation', data=dt_out)"
      ],
      "execution_count": 17,
      "outputs": [
        {
          "output_type": "execute_result",
          "data": {
            "text/plain": [
              "<matplotlib.axes._subplots.AxesSubplot at 0x7fcf2df69dd8>"
            ]
          },
          "metadata": {
            "tags": []
          },
          "execution_count": 17
        },
        {
          "output_type": "display_data",
          "data": {
            "image/png": "[encoded data removed]",
            "text/plain": [
              "<Figure size 432x288 with 1 Axes>"
            ]
          },
          "metadata": {
            "tags": [],
            "needs_background": "light"
          }
        }
      ]
    },
    {
      "cell_type": "code",
      "metadata": {
        "id": "UGss2_0rwU7V",
        "colab_type": "code",
        "colab": {
          "base_uri": "https://localhost:8080/",
          "height": 357
        },
        "outputId": "e0d1fc4e-47fb-4d84-e239-812f363965c6"
      },
      "source": [
        "grid = sns.relplot(x=\"neuron\", y=\"vars\",\n",
        "                 col=\"phase\", hue=\"activation\", err_style=None,\n",
        "                 kind=\"line\", data=dt_out)\n",
        "grid.set(xlabel='# neurons', ylabel='# variables')\n",
        "\n",
        "for ax in grid.axes.flat:\n",
        "    ax.set_xscale('log', basex=2)"
      ],
      "execution_count": 47,
      "outputs": [
        {
          "output_type": "display_data",
          "data": {
            "image/png": "[encoded data removed]",
            "text/plain": [
              "<Figure size 1165.5x360 with 3 Axes>"
            ]
          },
          "metadata": {
            "tags": [],
            "needs_background": "light"
          }
        }
      ]
    },
    {
      "cell_type": "code",
      "metadata": {
        "id": "oRsq5DugMfjH",
        "colab_type": "code",
        "colab": {
          "base_uri": "https://localhost:8080/",
          "height": 1000
        },
        "outputId": "f3df9fb2-941c-4c6b-e007-eb17702d306e"
      },
      "source": [
        "df3=dt_out.groupby(['activation', 'neuron'], sort=False).vars.value_counts(normalize=True,\n",
        "                                                   sort=False)\n",
        "pd.DataFrame(df3)"
      ],
      "execution_count": 66,
      "outputs": [
        {
          "output_type": "execute_result",
          "data": {
            "text/html": [
              "<div>\n",
              "<style scoped>\n",
              "    .dataframe tbody tr th:only-of-type {\n",
              "        vertical-align: middle;\n",
              "    }\n",
              "\n",
              "    .dataframe tbody tr th {\n",
              "        vertical-align: top;\n",
              "    }\n",
              "\n",
              "    .dataframe thead th {\n",
              "        text-align: right;\n",
              "    }\n",
              "</style>\n",
              "<table border=\"1\" class=\"dataframe\">\n",
              "  <thead>\n",
              "    <tr style=\"text-align: right;\">\n",
              "      <th></th>\n",
              "      <th></th>\n",
              "      <th></th>\n",
              "      <th>vars</th>\n",
              "    </tr>\n",
              "    <tr>\n",
              "      <th>activation</th>\n",
              "      <th>neuron</th>\n",
              "      <th>vars</th>\n",
              "      <th></th>\n",
              "    </tr>\n",
              "  </thead>\n",
              "  <tbody>\n",
              "    <tr>\n",
              "      <th rowspan=\"21\" valign=\"top\">relu</th>\n",
              "      <th rowspan=\"10\" valign=\"top\">512</th>\n",
              "      <th>10</th>\n",
              "      <td>0.166667</td>\n",
              "    </tr>\n",
              "    <tr>\n",
              "      <th>20</th>\n",
              "      <td>0.166667</td>\n",
              "    </tr>\n",
              "    <tr>\n",
              "      <th>30</th>\n",
              "      <td>0.166667</td>\n",
              "    </tr>\n",
              "    <tr>\n",
              "      <th>40</th>\n",
              "      <td>0.151515</td>\n",
              "    </tr>\n",
              "    <tr>\n",
              "      <th>50</th>\n",
              "      <td>0.090909</td>\n",
              "    </tr>\n",
              "    <tr>\n",
              "      <th>60</th>\n",
              "      <td>0.060606</td>\n",
              "    </tr>\n",
              "    <tr>\n",
              "      <th>70</th>\n",
              "      <td>0.060606</td>\n",
              "    </tr>\n",
              "    <tr>\n",
              "      <th>80</th>\n",
              "      <td>0.045455</td>\n",
              "    </tr>\n",
              "    <tr>\n",
              "      <th>90</th>\n",
              "      <td>0.045455</td>\n",
              "    </tr>\n",
              "    <tr>\n",
              "      <th>100</th>\n",
              "      <td>0.045455</td>\n",
              "    </tr>\n",
              "    <tr>\n",
              "      <th rowspan=\"4\" valign=\"top\">8</th>\n",
              "      <th>60</th>\n",
              "      <td>0.333333</td>\n",
              "    </tr>\n",
              "    <tr>\n",
              "      <th>70</th>\n",
              "      <td>0.416667</td>\n",
              "    </tr>\n",
              "    <tr>\n",
              "      <th>80</th>\n",
              "      <td>0.166667</td>\n",
              "    </tr>\n",
              "    <tr>\n",
              "      <th>90</th>\n",
              "      <td>0.083333</td>\n",
              "    </tr>\n",
              "    <tr>\n",
              "      <th rowspan=\"3\" valign=\"top\">16</th>\n",
              "      <th>40</th>\n",
              "      <td>0.111111</td>\n",
              "    </tr>\n",
              "    <tr>\n",
              "      <th>50</th>\n",
              "      <td>0.555556</td>\n",
              "    </tr>\n",
              "    <tr>\n",
              "      <th>60</th>\n",
              "      <td>0.333333</td>\n",
              "    </tr>\n",
              "    <tr>\n",
              "      <th rowspan=\"4\" valign=\"top\">4</th>\n",
              "      <th>70</th>\n",
              "      <td>0.086957</td>\n",
              "    </tr>\n",
              "    <tr>\n",
              "      <th>80</th>\n",
              "      <td>0.260870</td>\n",
              "    </tr>\n",
              "    <tr>\n",
              "      <th>90</th>\n",
              "      <td>0.304348</td>\n",
              "    </tr>\n",
              "    <tr>\n",
              "      <th>100</th>\n",
              "      <td>0.347826</td>\n",
              "    </tr>\n",
              "    <tr>\n",
              "      <th rowspan=\"21\" valign=\"top\">logistic</th>\n",
              "      <th rowspan=\"10\" valign=\"top\">512</th>\n",
              "      <th>10</th>\n",
              "      <td>0.135802</td>\n",
              "    </tr>\n",
              "    <tr>\n",
              "      <th>20</th>\n",
              "      <td>0.135802</td>\n",
              "    </tr>\n",
              "    <tr>\n",
              "      <th>30</th>\n",
              "      <td>0.135802</td>\n",
              "    </tr>\n",
              "    <tr>\n",
              "      <th>40</th>\n",
              "      <td>0.135802</td>\n",
              "    </tr>\n",
              "    <tr>\n",
              "      <th>50</th>\n",
              "      <td>0.135802</td>\n",
              "    </tr>\n",
              "    <tr>\n",
              "      <th>60</th>\n",
              "      <td>0.111111</td>\n",
              "    </tr>\n",
              "    <tr>\n",
              "      <th>70</th>\n",
              "      <td>0.074074</td>\n",
              "    </tr>\n",
              "    <tr>\n",
              "      <th>80</th>\n",
              "      <td>0.049383</td>\n",
              "    </tr>\n",
              "    <tr>\n",
              "      <th>90</th>\n",
              "      <td>0.049383</td>\n",
              "    </tr>\n",
              "    <tr>\n",
              "      <th>100</th>\n",
              "      <td>0.037037</td>\n",
              "    </tr>\n",
              "    <tr>\n",
              "      <th>64</th>\n",
              "      <th>60</th>\n",
              "      <td>1.000000</td>\n",
              "    </tr>\n",
              "    <tr>\n",
              "      <th rowspan=\"2\" valign=\"top\">32</th>\n",
              "      <th>60</th>\n",
              "      <td>0.500000</td>\n",
              "    </tr>\n",
              "    <tr>\n",
              "      <th>70</th>\n",
              "      <td>0.500000</td>\n",
              "    </tr>\n",
              "    <tr>\n",
              "      <th rowspan=\"4\" valign=\"top\">2</th>\n",
              "      <th>70</th>\n",
              "      <td>0.052632</td>\n",
              "    </tr>\n",
              "    <tr>\n",
              "      <th>80</th>\n",
              "      <td>0.210526</td>\n",
              "    </tr>\n",
              "    <tr>\n",
              "      <th>90</th>\n",
              "      <td>0.315789</td>\n",
              "    </tr>\n",
              "    <tr>\n",
              "      <th>100</th>\n",
              "      <td>0.421053</td>\n",
              "    </tr>\n",
              "    <tr>\n",
              "      <th rowspan=\"2\" valign=\"top\">4</th>\n",
              "      <th>70</th>\n",
              "      <td>0.600000</td>\n",
              "    </tr>\n",
              "    <tr>\n",
              "      <th>80</th>\n",
              "      <td>0.400000</td>\n",
              "    </tr>\n",
              "    <tr>\n",
              "      <th>8</th>\n",
              "      <th>80</th>\n",
              "      <td>1.000000</td>\n",
              "    </tr>\n",
              "    <tr>\n",
              "      <th>1</th>\n",
              "      <th>90</th>\n",
              "      <td>1.000000</td>\n",
              "    </tr>\n",
              "  </tbody>\n",
              "</table>\n",
              "</div>"
            ],
            "text/plain": [
              "                            vars\n",
              "activation neuron vars          \n",
              "relu       512    10    0.166667\n",
              "                  20    0.166667\n",
              "                  30    0.166667\n",
              "                  40    0.151515\n",
              "                  50    0.090909\n",
              "                  60    0.060606\n",
              "                  70    0.060606\n",
              "                  80    0.045455\n",
              "                  90    0.045455\n",
              "                  100   0.045455\n",
              "           8      60    0.333333\n",
              "                  70    0.416667\n",
              "                  80    0.166667\n",
              "                  90    0.083333\n",
              "           16     40    0.111111\n",
              "                  50    0.555556\n",
              "                  60    0.333333\n",
              "           4      70    0.086957\n",
              "                  80    0.260870\n",
              "                  90    0.304348\n",
              "                  100   0.347826\n",
              "logistic   512    10    0.135802\n",
              "                  20    0.135802\n",
              "                  30    0.135802\n",
              "                  40    0.135802\n",
              "                  50    0.135802\n",
              "                  60    0.111111\n",
              "                  70    0.074074\n",
              "                  80    0.049383\n",
              "                  90    0.049383\n",
              "                  100   0.037037\n",
              "           64     60    1.000000\n",
              "           32     60    0.500000\n",
              "                  70    0.500000\n",
              "           2      70    0.052632\n",
              "                  80    0.210526\n",
              "                  90    0.315789\n",
              "                  100   0.421053\n",
              "           4      70    0.600000\n",
              "                  80    0.400000\n",
              "           8      80    1.000000\n",
              "           1      90    1.000000"
            ]
          },
          "metadata": {
            "tags": []
          },
          "execution_count": 66
        }
      ]
    },
    {
      "cell_type": "code",
      "metadata": {
        "id": "KShyjQ-V046H",
        "colab_type": "code",
        "colab": {
          "base_uri": "https://localhost:8080/",
          "height": 167
        },
        "outputId": "6aa59d2d-13e8-4dbf-978f-c5ce39c75579"
      },
      "source": [
        "sns.catplot(\"vars\", col=\"neuron\",\n",
        "                data=dt_out, hue=\"activation\",\n",
        "                kind=\"count\")"
      ],
      "execution_count": 49,
      "outputs": [
        {
          "output_type": "execute_result",
          "data": {
            "text/plain": [
              "<seaborn.axisgrid.FacetGrid at 0x7f347335e828>"
            ]
          },
          "metadata": {
            "tags": []
          },
          "execution_count": 49
        },
        {
          "output_type": "display_data",
          "data": {
            "image/png": "[encoded data removed]",
            "text/plain": [
              "<Figure size 2951.62x360 with 8 Axes>"
            ]
          },
          "metadata": {
            "tags": [],
            "needs_background": "light"
          }
        }
      ]
    },
    {
      "cell_type": "markdown",
      "metadata": {
        "id": "9fKbZy-hHF_V",
        "colab_type": "text"
      },
      "source": [
        "## The problem is with multiple plots\n",
        "Each will have a different number of instances (see code below), hence different y scales. I want the y axis in %"
      ]
    },
    {
      "cell_type": "code",
      "metadata": {
        "id": "8d0M3wSzLhie",
        "colab_type": "code",
        "colab": {}
      },
      "source": [
        ""
      ],
      "execution_count": null,
      "outputs": []
    },
    {
      "cell_type": "code",
      "metadata": {
        "id": "oHymISJhHF_W",
        "colab_type": "code",
        "colab": {}
      },
      "source": [
        "import re\n",
        "import os\n",
        "import pandas as pd\n",
        "from glob import glob\n",
        "import matplotlib.pyplot as plt\n",
        "from  matplotlib.ticker import PercentFormatter\n",
        "%matplotlib inline\n",
        "import seaborn as sns\n",
        "import numpy as np\n",
        "\n",
        "def dir_string_ratio(dir_str):\n",
        "    \"\"\"\n",
        "    Extracts the ratio on a directory string.\n",
        "    Useful for sorting in increasing difficulty\n",
        "    \"\"\"\n",
        "    pattern = re.compile(r\"r(\\d\\.\\d+)\\.csv\")\n",
        "    return float(pattern.search(dir_str).group(1))\n",
        "\n",
        "def plot_num_neurons(basedir, num_vars, activation):\n",
        "\n",
        "    for f in sorted(glob(f'{basedir}/neurons_{activation}_v{num_vars}_*.csv'), key=dir_string_ratio):\n",
        "        df = pd.read_csv(f)\n",
        "        #df = df[df.sampler == 'unigen']  # gets only instances with 40+ solutions\n",
        "        grouped_df = df.where(df.sampler == 'unigen').groupby(\"formula\").last().reset_index()\n",
        "        df2 = df.where(df.sampler=='unigen').groupby('formula', \n",
        "                                                     sort=False, \n",
        "                                                     as_index=False).last()['#neurons'].value_counts(\n",
        "                                                         normalize=True,\n",
        "                                                         sort=False)\n",
        "        idx = np.argsort(df2.index)\n",
        "        x = df2.index[idx]\n",
        "        y = df2.values[idx]                                             \n",
        "\n",
        "        plt.figure()\n",
        "        #sns.countplot(x=\"#neurons\", data=grouped_df) #kudos: https://stackoverflow.com/a/58021306/1251716\n",
        "        #ax = sns.lineplot(x=x,y=y)\n",
        "        ax = sns.barplot(x=x,y=y)\n",
        "        plt.suptitle(f'{os.path.basename(f)}, {len(grouped_df)} instances')\n",
        "        ax.set_ylim([0,1])\n",
        "        ax.yaxis.set_major_formatter(PercentFormatter(1))\n",
        "        #ax.set_xlim([0,515])\n",
        "        ax\n",
        "        #plt.show()\n",
        "        #plt.savefig(f'/tmp/{g}_freq.pdf')\n",
        "\n"
      ],
      "execution_count": null,
      "outputs": []
    },
    {
      "cell_type": "code",
      "metadata": {
        "id": "Aua03SqhLpzk",
        "colab_type": "code",
        "colab": {
          "base_uri": "https://localhost:8080/",
          "height": 1000
        },
        "outputId": "3d2bb0ef-05de-45e6-f713-7e2a23081b7a"
      },
      "source": [
        "plot_num_neurons('/content/drive/My Drive/UFRGS/Learnability/relu/', 80, 'relu')"
      ],
      "execution_count": null,
      "outputs": [
        {
          "output_type": "display_data",
          "data": {
            "image/png": "[encoded data removed]",
            "text/plain": [
              "<Figure size 432x288 with 1 Axes>"
            ]
          },
          "metadata": {
            "tags": [],
            "needs_background": "light"
          }
        },
        {
          "output_type": "display_data",
          "data": {
            "image/png": "[encoded data removed]",
            "text/plain": [
              "<Figure size 432x288 with 1 Axes>"
            ]
          },
          "metadata": {
            "tags": [],
            "needs_background": "light"
          }
        },
        {
          "output_type": "display_data",
          "data": {
            "image/png": "[encoded data removed]",
            "text/plain": [
              "<Figure size 432x288 with 1 Axes>"
            ]
          },
          "metadata": {
            "tags": [],
            "needs_background": "light"
          }
        },
        {
          "output_type": "display_data",
          "data": {
            "image/png": "[encoded data removed]",
            "text/plain": [
              "<Figure size 432x288 with 1 Axes>"
            ]
          },
          "metadata": {
            "tags": [],
            "needs_background": "light"
          }
        },
        {
          "output_type": "display_data",
          "data": {
            "image/png": "[encoded data removed]",
            "text/plain": [
              "<Figure size 432x288 with 1 Axes>"
            ]
          },
          "metadata": {
            "tags": [],
            "needs_background": "light"
          }
        },
        {
          "output_type": "display_data",
          "data": {
            "image/png": "[encoded data removed]",
            "text/plain": [
              "<Figure size 432x288 with 1 Axes>"
            ]
          },
          "metadata": {
            "tags": [],
            "needs_background": "light"
          }
        },
        {
          "output_type": "display_data",
          "data": {
            "image/png": "[encoded data removed]",
            "text/plain": [
              "<Figure size 432x288 with 1 Axes>"
            ]
          },
          "metadata": {
            "tags": [],
            "needs_background": "light"
          }
        },
        {
          "output_type": "display_data",
          "data": {
            "image/png": "[encoded data removed]",
            "text/plain": [
              "<Figure size 432x288 with 1 Axes>"
            ]
          },
          "metadata": {
            "tags": [],
            "needs_background": "light"
          }
        },
        {
          "output_type": "display_data",
          "data": {
            "image/png": "[encoded data removed]",
            "text/plain": [
              "<Figure size 432x288 with 1 Axes>"
            ]
          },
          "metadata": {
            "tags": [],
            "needs_background": "light"
          }
        },
        {
          "output_type": "display_data",
          "data": {
            "image/png": "[encoded data removed]",
            "text/plain": [
              "<Figure size 432x288 with 1 Axes>"
            ]
          },
          "metadata": {
            "tags": [],
            "needs_background": "light"
          }
        },
        {
          "output_type": "display_data",
          "data": {
            "image/png": "[encoded data removed]",
            "text/plain": [
              "<Figure size 432x288 with 1 Axes>"
            ]
          },
          "metadata": {
            "tags": [],
            "needs_background": "light"
          }
        }
      ]
    }
  ]
}
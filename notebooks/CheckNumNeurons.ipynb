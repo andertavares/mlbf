{
 "cells": [
  {
   "cell_type": "code",
   "execution_count": null,
   "metadata": {},
   "outputs": [],
   "source": [
    "import pandas as pd\n",
    "import matplotlib.pyplot as plt\n",
    "%matplotlib inline\n",
    "import seaborn as sns\n",
    "\n",
    "df = pd.read_csv('../num_neurons_satlib-uf.csv')\n",
    "group_prefixes = ['uf20', 'uf50', 'uf75', 'uf100', 'uf125', 'uf150', 'uf175', 'uf200', 'uf225', 'uf250']\n",
    "\n",
    "for g in group_prefixes:\n",
    "    #print(g)\n",
    "    filtered = df[df['formula'].str.startswith(f\"{g}-\")]\n",
    "    grouped_df = filtered.groupby(\"formula\").max().reset_index() #kudos: https://www.kite.com/python/answers/how-to-get-the-maximum-values-of-each-group-in-a-pandas-dataframe-in-python\n",
    "    #display(grouped_df)\n",
    "    #h = filtered.hist(column='#neurons', label=g, density=True, bins='rice')\n",
    "    #display(filtered['#neurons'].value_counts())\n",
    "    #filtered['#neurons'].value_counts(normalize=True).plot(kind='bar') #kudos: https://stackoverflow.com/a/26477354/1251716\n",
    "    plt.figure() #so that seaborn doesn't overwrite plots: https://stackoverflow.com/a/41325868/1251716\n",
    "    sns.countplot(x=\"#neurons\", data=grouped_df, color='blue') #kudos: https://stackoverflow.com/a/58021306/1251716\n",
    "    plt.suptitle(f'{g}, {len(grouped_df)} instances')\n",
    "    #print(plt.xticks())\n",
    "    #plt.xticks(range(10), [2**i for i in range(9)] + ['512+'])\n",
    "    plt.savefig(f'/tmp/{g}_freq.pdf')\n",
    "    # scatterplot constrainedness -- selman nature (phase transition) -- walsh: #clauses / #vars --\n",
    "    # sat vs csp -- Moshe\n",
    "    # imbalearn\n",
    "    # normalized plots: https://stackoverflow.com/questions/34615854/seaborn-countplot-with-normalized-y-axis-per-group"
   ]
  },
  {
   "cell_type": "code",
   "execution_count": null,
   "metadata": {},
   "outputs": [],
   "source": [
    "import pandas as pd\n",
    "import matplotlib.pyplot as plt\n",
    "%matplotlib inline\n",
    "import seaborn as sns\n",
    "\n",
    "df = pd.read_csv('../num_neurons_satlib-uf.csv')\n",
    "group_prefixes = ['uf20', 'uf50', 'uf75', 'uf100', 'uf125', 'uf150', 'uf175', 'uf200', 'uf225', 'uf250']\n",
    "\n",
    "for g in group_prefixes:\n",
    "    #print(g)\n",
    "    filtered = df[df['formula'].str.startswith(f\"{g}-\")]\n",
    "    grouped_df = filtered.groupby(\"formula\").max().reset_index() #kudos: https://www.kite.com/python/answers/how-to-get-the-maximum-values-of-each-group-in-a-pandas-dataframe-in-python\n",
    "    #display(grouped_df)\n",
    "    #h = filtered.hist(column='#neurons', label=g, density=True, bins='rice')\n",
    "    #display(filtered['#neurons'].value_counts())\n",
    "    #filtered['#neurons'].value_counts(normalize=True).plot(kind='bar') #kudos: https://stackoverflow.com/a/26477354/1251716\n",
    "    plt.figure() #so that seaborn doesn't overwrite plots: https://stackoverflow.com/a/41325868/1251716\n",
    "    sns.countplot(x=\"#neurons\", data=grouped_df) #kudos: https://stackoverflow.com/a/58021306/1251716\n",
    "    plt.suptitle(f'{g}, {len(grouped_df)} instances')\n",
    "    #print(plt.xticks())\n",
    "    #plt.xticks(range(10), [2**i for i in range(9)] + ['512+'])\n",
    "    plt.savefig(f'/tmp/{g}_freq.pdf')\n",
    "        "
   ]
  }
 ],
 "metadata": {
  "kernelspec": {
   "display_name": "Python 3",
   "language": "python",
   "name": "python3"
  },
  "language_info": {
   "codemirror_mode": {
    "name": "ipython",
    "version": 3
   },
   "file_extension": ".py",
   "mimetype": "text/x-python",
   "name": "python",
   "nbconvert_exporter": "python",
   "pygments_lexer": "ipython3",
   "version": "3.7.3"
  }
 },
 "nbformat": 4,
 "nbformat_minor": 2
}

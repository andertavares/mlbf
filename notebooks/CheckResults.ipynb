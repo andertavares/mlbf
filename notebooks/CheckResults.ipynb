{
 "cells": [
  {
   "cell_type": "code",
   "execution_count": null,
   "metadata": {},
   "outputs": [],
   "source": [
    "import pandas as pd\n",
    "\n",
    "def parse_results(group_data, csv_path, sep='-'):\n",
    "    \n",
    "    df = pd.read_csv(csv_path)\n",
    "    \n",
    "    header = ['Set', '#vars', '#clauses', '#instances', 'mean', 'min', '#perfect', 'ratio perfect']\n",
    "    statistics = pd.DataFrame(columns=header)\n",
    "    #print('\\t'.join(header))\n",
    "    for group in group_data:\n",
    "        #print(group)\n",
    "        filtered = df[df['dataset'].str.startswith(f\"{group['name']}{sep}\")]\n",
    "        #display(filtered)\n",
    "        #display(filtered.agg(['mean', 'count']))\n",
    "        acc = filtered['accuracy']\n",
    "        perfect_count = len(filtered[filtered['accuracy'] == 1])\n",
    "        ratio_perfect = perfect_count / len(filtered) if len(filtered) > 0 else 0\n",
    "        data = [group['name'], group['vars'], group['clauses'], acc.count(), acc.mean(), acc.min(), perfect_count, ratio_perfect]\n",
    "        #print('\\t'.join([str(x) for x in data]))\n",
    "\n",
    "        statistics = statistics.append(pd.DataFrame([data], columns=header))\n",
    "\n",
    "    \n",
    "    return statistics"
   ]
  },
  {
   "cell_type": "code",
   "execution_count": null,
   "metadata": {},
   "outputs": [],
   "source": [
    "# this cell gathers statistics about uniform, phase transition instances\n",
    "# description: https://www.cs.ubc.ca/~hoos/SATLIB/Benchmarks/SAT/RND3SAT/descr.html\n",
    "\n",
    "'''\n",
    "UF instances are prefixed by:\n",
    "uf20: 20 variables, 91 clauses - 1000 instances, all sat\n",
    "uf50: 50 variables, 218 clauses - 1000 instances, all sat\n",
    "uf75: 75 variables, 325 clauses - 100 instances, all sat\n",
    "uf100: 100 variables, 430 clauses - 1000 instances, all sat\n",
    "uf125: 125 variables, 538 clauses - 100 instances, all sat\n",
    "uf150: 150 variables, 645 clauses - 100 instances, all sat\n",
    "uf175: 175 variables, 753 clauses - 100 instances, all sat\n",
    "uf200: 200 variables, 860 clauses - 100 instances, all sat\n",
    "uf225: 225 variables, 960 clauses - 100 instances, all sat\n",
    "uf250: 250 variables, 1065 clauses - 100 instances, all sat\n",
    "'''\n",
    "group_prefixes = ['uf20', 'uf50', 'uf75', 'uf100', 'uf125', 'uf150', 'uf175', 'uf200', 'uf225', 'uf250']\n",
    "var_count = [20, 50, 75, 100, 125, 150, 175, 200, 225, 250]\n",
    "clause_count = [91, 218, 325, 430, 538, 645, 753, 860, 960, 1065]\n",
    "\n",
    "group_data = [{'name': group_prefixes[i], 'vars': var_count[i], 'clauses': clause_count[i]}  for i in range(len(group_prefixes))]\n",
    "stats = parse_results(group_data, 'results_2020-08-04/satlib_uf_mlp.csv')\n",
    "display(stats)\n"
   ]
  },
  {
   "cell_type": "code",
   "execution_count": null,
   "metadata": {},
   "outputs": [],
   "source": [
    "# this cell gathers statistics about uniform, controlled backbone size instances\n",
    "# description: https://www.cs.ubc.ca/~hoos/SATLIB/Benchmarks/SAT/CBS/descr_CBS.html\n",
    "import pandas as pd\n",
    "import itertools\n",
    "'''\n",
    "CBS instances are prefixed by\n",
    "CBS_k3_nV_mM_bB, where V = 100, M = [403, 411, 418, 423, 429, 435, 441, 449] and B = [10, 30, 50, 70, 90]\n",
    "'''\n",
    "\n",
    "#cbs instances are generated with all combinations of var_count, clause_count and backbone_sizes\n",
    "var_count = [100]\n",
    "clause_count = [403, 411, 418, 423, 429, 435, 441, 449]\n",
    "backbone_sizes = [10, 30, 50, 70, 90]\n",
    "\n",
    "\n",
    "df = pd.read_csv('results_2020-08-04/satlib_cbs_mlp.csv')\n",
    "#display(df)\n",
    "\n",
    "header = ['instances', '#vars', '#clauses', 'count', 'mean', 'min', '#perfect', 'ratio perfect']\n",
    "statistics = pd.DataFrame(columns=header)\n",
    "#print('\\t'.join(header))\n",
    "\n",
    "data = []\n",
    "for v, c, b in itertools.product(var_count, clause_count, backbone_sizes):\n",
    "    name = f'CBS_k3_n{v}_m{c}_b{b}'\n",
    "    data.append({'name': name, 'vars': v, 'clauses': c})\n",
    "\n",
    "stats = parse_results(data, 'results_2020-08-04/satlib_cbs_mlp.csv', sep='_')\n",
    "display(stats)\n"
   ]
  },
  {
   "cell_type": "code",
   "execution_count": null,
   "metadata": {},
   "outputs": [],
   "source": [
    "# this cell gathers statistics about GCP instances\n",
    "# description: https://www.cs.ubc.ca/~hoos/SATLIB/Benchmarks/SAT/GCP/descr.html\n",
    "import pandas as pd\n",
    "'''\n",
    "GCP instances are prefixed by\n",
    "flatN, where N is the number of vertices\n",
    "'''\n",
    "\n",
    "clauses = [300, 545, 840, 1117, 1403, 1680, 1951, 2237]\n",
    "vertices = [30, 50, 75, 100, 125, 150, 175, 200]\n",
    "\n",
    "data = [{'name': f'flat{v}', 'vars': 3*v, 'clauses': c} for c, v in zip(clauses, vertices)]\n",
    "stats = parse_results(data, 'results_2020-08-04/satlib_gcp_mlp.csv', sep='-')\n",
    "display(stats)\n",
    "#df = pd.read_csv('results_2020-08-04/satlib_gcp_mlp.csv')\n",
    "#display(df)\n"
   ]
  }
 ],
 "metadata": {
  "kernelspec": {
   "display_name": "Python 3",
   "language": "python",
   "name": "python3"
  },
  "language_info": {
   "codemirror_mode": {
    "name": "ipython",
    "version": 3
   },
   "file_extension": ".py",
   "mimetype": "text/x-python",
   "name": "python",
   "nbconvert_exporter": "python",
   "pygments_lexer": "ipython3",
   "version": "3.7.3"
  }
 },
 "nbformat": 4,
 "nbformat_minor": 2
}
